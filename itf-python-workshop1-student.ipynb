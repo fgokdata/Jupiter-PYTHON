{
 "cells": [
  {
   "cell_type": "markdown",
   "metadata": {},
   "source": [
    "### Problem 1\n",
    "\n",
    "Write a program that multiplies three numbers entered by the user. Print the output with the format method."
   ]
  },
  {
   "cell_type": "code",
   "execution_count": null,
   "metadata": {},
   "outputs": [],
   "source": [
    "a = int(input(\"enter a number:\"))\n",
    "b = int(input(\"enter a number:\"))\n",
    "c = int(input(\"enter a number:\"))\n",
    "\n",
    "print(\"{}*{}*{} = \".format(a, b, c), a*b*c)"
   ]
  },
  {
   "cell_type": "code",
   "execution_count": null,
   "metadata": {},
   "outputs": [],
   "source": []
  },
  {
   "cell_type": "markdown",
   "metadata": {},
   "source": [
    "### Problem 2\n",
    "\n",
    "Write a program that calculates body mass index from **height** and **weight** entered by the user. \n",
    "\n",
    "Body mass index :  Weight / Height(m) * Height(m)"
   ]
  },
  {
   "cell_type": "code",
   "execution_count": null,
   "metadata": {},
   "outputs": [],
   "source": [
    "height = int(input(\"enter your height:\"))\n",
    "weight = int(input(\"enter your weight:\"))\n",
    "\n",
    "print(\"body mass index:\", weight / height ** 2)"
   ]
  },
  {
   "cell_type": "code",
   "execution_count": 2,
   "metadata": {},
   "outputs": [
    {
     "name": "stdout",
     "output_type": "stream",
     "text": [
      "enter your height:200\n",
      "enter your weight:90\n",
      "body mass index: 0.00225\n"
     ]
    }
   ],
   "source": [
    "height = int(input(\"enter your height:\"))\n",
    "weight = int(input(\"enter your weight:\"))\n",
    "\n",
    "print(\"body mass index:\", weight / height ** 2)"
   ]
  },
  {
   "cell_type": "markdown",
   "metadata": {},
   "source": [
    "### Problem 3\n",
    "\n",
    "With your $ 200, how many pieces of material can you get for $ 11 each? How much money do you have left after buying?"
   ]
  },
  {
   "cell_type": "code",
   "execution_count": null,
   "metadata": {},
   "outputs": [],
   "source": [
    "money = 200\n",
    "piece = 11\n",
    "print(\"I can buy\", int(money/piece), \"pieces.\")\n",
    "print(\"Now, I have\", money % piece,\"$\".)"
   ]
  },
  {
   "cell_type": "markdown",
   "metadata": {},
   "source": [
    "### Problem 4\n",
    "\n",
    "Ask the user for two numbers and assign these numbers to variables and replace the values of these variables with each other."
   ]
  },
  {
   "cell_type": "code",
   "execution_count": 3,
   "metadata": {},
   "outputs": [
    {
     "name": "stdout",
     "output_type": "stream",
     "text": [
      "enter a number:6\n",
      "enter a number:7\n",
      "Numbers\n",
      "a= 6 b= 7\n",
      "New numbers\n",
      "a= 7 b= 6\n"
     ]
    }
   ],
   "source": [
    "number1 = int(input(\"enter a number:\"))\n",
    "number2 = int(input(\"enter a number:\"))\n",
    "\n",
    "a = number1\n",
    "b = number2 \n",
    "\n",
    "print(\"Numbers\\na= {} b= {}\".format(a, b))\n",
    "a, b = b, a\n",
    "print(\"New numbers\\na= {} b= {}\".format(a, b))"
   ]
  },
  {
   "cell_type": "markdown",
   "metadata": {},
   "source": [
    "### Problem 5\n",
    "\n",
    "Write a Python program to solve (x - y) * (x + y)."
   ]
  },
  {
   "cell_type": "code",
   "execution_count": 5,
   "metadata": {},
   "outputs": [
    {
     "name": "stdout",
     "output_type": "stream",
     "text": [
      "16\n"
     ]
    }
   ],
   "source": [
    "x = 5 \n",
    "y = 3\n",
    "print((x-y)*(x+y))"
   ]
  },
  {
   "cell_type": "markdown",
   "metadata": {},
   "source": [
    "### Problem 6\n",
    "\n",
    "Get **word**, **seperator** and **repetition** values from the user and print the word on the screen according to the given values. \n",
    "\n",
    "Ex: word = ali sep = / repetition = 3 ----> ali/ali/ali"
   ]
  },
  {
   "cell_type": "code",
   "execution_count": 6,
   "metadata": {},
   "outputs": [
    {
     "name": "stdout",
     "output_type": "stream",
     "text": [
      "Enter a word:world\n",
      "Enter a seperator:+\n",
      "How many times you want it to repeat:7\n",
      "world+world+world+world+world+world+world\n"
     ]
    }
   ],
   "source": [
    "word = input(\"Enter a word:\")\n",
    "seperator = input(\"Enter a seperator:\")\n",
    "repetition = input(\"How many times you want it to repeat:\")\n",
    "\n",
    "print(*list([word] * int(repetition)), sep=seperator)\n"
   ]
  },
  {
   "cell_type": "code",
   "execution_count": 9,
   "metadata": {},
   "outputs": [
    {
     "name": "stdout",
     "output_type": "stream",
     "text": [
      "Enter a word:game\n",
      "Enter a seperator:+\n",
      "How many times you want it to repeat:7\n",
      "game+game+game+game+game+game+game\n"
     ]
    }
   ],
   "source": [
    "word = input(\"Enter a word:\")\n",
    "seperator = input(\"Enter a seperator:\")\n",
    "repetition = int(input(\"How many times you want it to repeat:\"))\n",
    "\n",
    "result = (word + seperator) * (repetition - 1) + word\n",
    "print(result)"
   ]
  },
  {
   "cell_type": "markdown",
   "metadata": {},
   "source": [
    "### Problem 7\n",
    "\n",
    "Get a sitring and an integer input from the user and get the output shown as in the example.\n",
    "\n",
    "Ex: word = Clarusway n = 3 OUTPUT = waywayway"
   ]
  },
  {
   "cell_type": "code",
   "execution_count": 2,
   "metadata": {},
   "outputs": [
    {
     "name": "stdout",
     "output_type": "stream",
     "text": [
      "enter a word :succesful\n",
      "enter a number:2\n",
      "9\n",
      "succesful\n",
      "ulul\n"
     ]
    }
   ],
   "source": [
    "word = input(\"enter a word :\")\n",
    "number = int(input(\"enter a number:\"))\n",
    "\n",
    "x = len(word)\n",
    "print(x)\n",
    "print(*[word])\n",
    "print(word[x - number:]*number)"
   ]
  },
  {
   "cell_type": "code",
   "execution_count": 1,
   "metadata": {},
   "outputs": [
    {
     "name": "stdout",
     "output_type": "stream",
     "text": [
      "enter a word :succesful\n",
      "enter a number:2\n",
      "ulul\n"
     ]
    }
   ],
   "source": [
    "word = input(\"enter a word :\")\n",
    "number = int(input(\"enter a number:\"))\n",
    "print(word[-number:]*number)"
   ]
  },
  {
   "cell_type": "markdown",
   "metadata": {},
   "source": [
    "### Problem 8\n",
    "\n",
    "Get a number from the user. \n",
    "\n",
    "If the number is divided by 3 print *Clarus*, if it is divided by 5 print *way*, if it is divided by both 3 and 5 print *Clarusway*. \n",
    "\n",
    "If not, print the number itself."
   ]
  },
  {
   "cell_type": "code",
   "execution_count": 40,
   "metadata": {},
   "outputs": [
    {
     "name": "stdout",
     "output_type": "stream",
     "text": [
      "enter a number:8\n",
      "8\n"
     ]
    }
   ],
   "source": [
    "number = int(input(\"enter a number:\"))\n",
    "\n",
    "print('Clarus' * (number % 3 == 0) + 'way' * (number % 5 == 0) or number)"
   ]
  },
  {
   "cell_type": "markdown",
   "metadata": {},
   "source": [
    "Problem 9\n",
    "letters = \"abclarusxyz\"\n",
    "- get the word **clarus** in the string\n",
    "- get the word **cba**\n",
    "- print the last eight characters in reverse order"
   ]
  },
  {
   "cell_type": "code",
   "execution_count": 12,
   "metadata": {},
   "outputs": [
    {
     "name": "stdout",
     "output_type": "stream",
     "text": [
      "['abclarusxyz']\n",
      "clarus\n",
      "cba\n",
      "zyxsural\n"
     ]
    }
   ],
   "source": [
    "letters = \"abclarusxyz\"\n",
    "print([letters])\n",
    "print(letters[2:8])\n",
    "print(letters[2::-1])\n",
    "print(letters[:-9:-1])"
   ]
  },
  {
   "cell_type": "markdown",
   "metadata": {},
   "source": [
    "### Problem 10\n",
    "\n",
    "Print **Clarusway is the best** from the elements of the rand_list list.\n",
    "\n",
    "rand_list = [1,[1, 2, \"Clarus\", [2, \"way\"]], \" is the best\"]"
   ]
  },
  {
   "cell_type": "code",
   "execution_count": 13,
   "metadata": {},
   "outputs": [
    {
     "name": "stdout",
     "output_type": "stream",
     "text": [
      "Clarusway is the best\n"
     ]
    }
   ],
   "source": [
    "rand_list = [1,[1, 2, \"Clarus\", [2, \"way\"]], \" is the best\"]\n",
    "print(rand_list[1][2] + rand_list[1][3][1] + rand_list[2])"
   ]
  },
  {
   "cell_type": "markdown",
   "metadata": {},
   "source": [
    "### Problem 11\n",
    "\n",
    "Sort the list given below in ascending order. Find the missing number from 1 to 10.\n",
    "\n",
    "num_list = [2, 3, 1, 5, 6, 4, 9, 8, 10]"
   ]
  },
  {
   "cell_type": "code",
   "execution_count": 16,
   "metadata": {},
   "outputs": [
    {
     "name": "stdout",
     "output_type": "stream",
     "text": [
      "[1, 2, 3, 4, 5, 6, 8, 9, 10]\n",
      "{1, 2, 3, 4, 5, 6, 8, 9, 10}\n",
      "{1, 2, 3, 4, 5, 6, 7, 8, 9, 10}\n",
      "{7}\n"
     ]
    }
   ],
   "source": [
    "num_list = [2, 3, 1, 5, 6, 4, 9, 8, 10]\n",
    "num_list.sort()\n",
    "print(num_list)\n",
    "list1 = set(num_list)\n",
    "print(list1)\n",
    "list2 = set(range(1, 11))\n",
    "print(list2)\n",
    "check_list = list2.difference(list1)\n",
    "print(check_list)"
   ]
  },
  {
   "cell_type": "markdown",
   "metadata": {},
   "source": [
    "### Problem 12\n",
    "\n",
    "Print the oldest person's name?\n",
    "\n",
    "old ={\n",
    "  \"Emma\": 71,\n",
    "  \"Jack\": 45,\n",
    "  \"Amy\": 15,\n",
    "  \"Ben\": 29\n",
    "}"
   ]
  },
  {
   "cell_type": "code",
   "execution_count": 22,
   "metadata": {},
   "outputs": [
    {
     "name": "stdout",
     "output_type": "stream",
     "text": [
      "Emma\n",
      "dict_values([71, 45, 15, 29])\n"
     ]
    }
   ],
   "source": [
    "old ={ \"Emma\": 71, \"Jack\": 45, \"Amy\": 15, \"Ben\": 29}\n",
    "print(max(old, key=old.get))\n",
    "a = old.values()\n",
    "print(a)\n"
   ]
  },
  {
   "cell_type": "markdown",
   "metadata": {},
   "source": [
    "### Problem 13\n",
    "\n",
    "Write a Python program to sum all the items in a dictionary.\n",
    "\n",
    "my_dict = {'data1':100,'data2':-54,'data3':247}"
   ]
  },
  {
   "cell_type": "code",
   "execution_count": 80,
   "metadata": {},
   "outputs": [
    {
     "name": "stdout",
     "output_type": "stream",
     "text": [
      "293\n"
     ]
    }
   ],
   "source": [
    "my_dict = {'data1':100,'data2':-54,'data3':247}\n",
    "\n",
    "print(sum(my_dict.values()))"
   ]
  },
  {
   "cell_type": "markdown",
   "metadata": {},
   "source": [
    "### Problem 14\n",
    "\n",
    "Write a Python program to compute average of two given lists.\n",
    "\n",
    "nums1 = [1, 1, 3, 4, 4, 5, 6, 7]\n",
    "nums2 = [0, 1, 2, 3, 4, 4, 5, 7, 8]"
   ]
  },
  {
   "cell_type": "code",
   "execution_count": 24,
   "metadata": {},
   "outputs": [
    {
     "name": "stdout",
     "output_type": "stream",
     "text": [
      "[1, 2, 5, 7, 8, 9, 11, 14]\n",
      "7.125\n"
     ]
    }
   ],
   "source": [
    "nums1 = [1, 1, 3, 4, 4, 5, 6, 7] \n",
    "nums2 = [0, 1, 2, 3, 4, 4, 5, 7, 8]\n",
    "\n",
    "zipped = zip(nums1, nums2)\n",
    "\n",
    "total = [x + y for (x, y) in zipped]\n",
    "\n",
    "print(total)\n",
    "\n",
    "print(sum(total)/len(total))\n"
   ]
  },
  {
   "cell_type": "code",
   "execution_count": 8,
   "metadata": {},
   "outputs": [
    {
     "name": "stdout",
     "output_type": "stream",
     "text": [
      "[1, 2, 5, 7, 8, 9, 11, 14]\n"
     ]
    }
   ],
   "source": [
    "nums1 = [1, 1, 3, 4, 4, 5, 6, 7] \n",
    "nums2 = [0, 1, 2, 3, 4, 4, 5, 7, 8]\n",
    "\n",
    "zipped = zip(nums1, nums2)\n",
    "\n",
    "total = [x + y for (x, y) in zipped]\n",
    "\n",
    "print(total)"
   ]
  },
  {
   "cell_type": "code",
   "execution_count": 9,
   "metadata": {},
   "outputs": [
    {
     "ename": "SyntaxError",
     "evalue": "can't use starred expression here (<ipython-input-9-da415d75e10a>, line 1)",
     "output_type": "error",
     "traceback": [
      "\u001b[1;36m  File \u001b[1;32m\"<ipython-input-9-da415d75e10a>\"\u001b[1;36m, line \u001b[1;32m1\u001b[0m\n\u001b[1;33m    * (number % 3 == 0)\u001b[0m\n\u001b[1;37m    ^\u001b[0m\n\u001b[1;31mSyntaxError\u001b[0m\u001b[1;31m:\u001b[0m can't use starred expression here\n"
     ]
    }
   ],
   "source": [
    "* (number)"
   ]
  },
  {
   "cell_type": "code",
   "execution_count": null,
   "metadata": {},
   "outputs": [],
   "source": []
  }
 ],
 "metadata": {
  "kernelspec": {
   "display_name": "Python 3",
   "language": "python",
   "name": "python3"
  },
  "language_info": {
   "codemirror_mode": {
    "name": "ipython",
    "version": 3
   },
   "file_extension": ".py",
   "mimetype": "text/x-python",
   "name": "python",
   "nbconvert_exporter": "python",
   "pygments_lexer": "ipython3",
   "version": "3.8.5"
  }
 },
 "nbformat": 4,
 "nbformat_minor": 2
}
